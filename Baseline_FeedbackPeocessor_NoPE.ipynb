{
 "cells": [
  {
   "cell_type": "code",
   "execution_count": null,
   "id": "ab71c4f7-4545-474c-af51-bbf05a251e85",
   "metadata": {},
   "outputs": [],
   "source": [
    "import numpy as np\n",
    "import os \n",
    "import pandas as pd\n",
    "import json\n",
    "from langchain_community.llms import Ollama\n",
    "from langchain import PromptTemplate\n",
    "import re\n",
    "import ast"
   ]
  },
  {
   "cell_type": "code",
   "execution_count": null,
   "id": "13e03aca-e87c-4d2f-953e-2e322c436480",
   "metadata": {},
   "outputs": [],
   "source": [
    "# llm = Ollama(base_url='http://localhost:11434',\n",
    "#              model=\"llama2\")\n",
    "# mistral_bot = Ollama(base_url='http://localhost:11434',\n",
    "#              model=\"mistral\")\n",
    "ActiveLLM = Ollama(base_url='http://localhost:11434',\n",
    "             model=\"llama3.1\")\n"
   ]
  },
  {
   "cell_type": "code",
   "execution_count": null,
   "id": "dcd33603-9ec6-4e6e-a580-95a004912e89",
   "metadata": {},
   "outputs": [],
   "source": [
    "def useLLM(input, template):\n",
    "    \n",
    "    output = ActiveLLM(\n",
    "    template.format(\n",
    "        userfeedback=input\n",
    "        )\n",
    "    )\n",
    "    return output"
   ]
  },
  {
   "cell_type": "code",
   "execution_count": null,
   "id": "f42e77ae-68f9-4148-83d9-87bd7e68e451",
   "metadata": {},
   "outputs": [],
   "source": [
    "NoPE_batch = \"\"\"\n",
    "Here are some pieces of user feedback we collected in an online testing of our new software. please read all of the user feedback and give me the 3-5 main themes you find in the feedback.\n",
    "User Feedback: {userfeedback}\n",
    "Output: \"\"\""
   ]
  },
  {
   "cell_type": "code",
   "execution_count": null,
   "id": "07c84ee5-38e7-46d7-99e9-d334a2358634",
   "metadata": {},
   "outputs": [],
   "source": [
    "prompt_template1 = PromptTemplate(\n",
    "    input_variables=[\"userfeedback\"],\n",
    "    template=NoPE_batch\n",
    ")"
   ]
  },
  {
   "cell_type": "code",
   "execution_count": null,
   "id": "06a5051a-4e6e-48fa-8afa-1a0f93bd89fe",
   "metadata": {},
   "outputs": [],
   "source": [
    "athenadata = open(\"Downloads/Athena_feedback.txt\", encoding='windows-1252').read().splitlines()"
   ]
  },
  {
   "cell_type": "code",
   "execution_count": null,
   "id": "d4b77d7d-65f7-48c4-a7e7-0beca3bd916b",
   "metadata": {},
   "outputs": [],
   "source": [
    "UserID = []\n",
    "Message = []\n",
    "\n",
    "for i in range(0,len(athenadata)):\n",
    "    if i % 2 == 0:\n",
    "        UserID.append(athenadata[i])\n",
    "    elif i % 2 == 1:\n",
    "        Message.append(athenadata[i])\n",
    "    else:\n",
    "        continue\n",
    "\n",
    "\n",
    "AUF_Df = pd.DataFrame({\n",
    "    'UserID':UserID,\n",
    "    'Message':Message\n",
    "})"
   ]
  },
  {
   "cell_type": "code",
   "execution_count": null,
   "id": "c74f4637-ec4f-4fe7-ae5e-9a8f8e4a8138",
   "metadata": {},
   "outputs": [],
   "source": [
    "AUF_Df.head()"
   ]
  },
  {
   "cell_type": "code",
   "execution_count": null,
   "id": "3e9c4482-fe30-4543-87be-454f098478d0",
   "metadata": {},
   "outputs": [],
   "source": [
    "AUF_Dft1 = AUF_Df.iloc[0:3,]"
   ]
  },
  {
   "cell_type": "code",
   "execution_count": null,
   "id": "375378ac-77f3-491f-a629-62832a3f36ee",
   "metadata": {},
   "outputs": [],
   "source": [
    "str(AUF_Dft1.Message.to_list())"
   ]
  },
  {
   "cell_type": "code",
   "execution_count": null,
   "id": "0424e763-2753-4f85-88e2-80ac096f9735",
   "metadata": {},
   "outputs": [],
   "source": [
    "useLLM(input=str(AUF_Dft1.Message.to_list()), template=NoPE_batch)"
   ]
  },
  {
   "cell_type": "code",
   "execution_count": null,
   "id": "97afd4c4-1b71-4361-85d7-f56df5e6ed6b",
   "metadata": {},
   "outputs": [],
   "source": [
    "useLLM(input=str(AUF_Df.Message.to_list()), template=NoPE_batch)"
   ]
  },
  {
   "cell_type": "code",
   "execution_count": null,
   "id": "c33bedcf-2e79-4919-967a-de6b6a8cb71a",
   "metadata": {},
   "outputs": [],
   "source": [
    "len(str(AUF_Df.Message.to_list()))/4"
   ]
  },
  {
   "cell_type": "code",
   "execution_count": null,
   "id": "30cbbe4d-80d3-44d6-b42a-d56b44cbc094",
   "metadata": {},
   "outputs": [],
   "source": []
  },
  {
   "cell_type": "code",
   "execution_count": null,
   "id": "ece07459-169b-4db2-ab46-6ca9e79e7f1c",
   "metadata": {},
   "outputs": [],
   "source": []
  },
  {
   "cell_type": "code",
   "execution_count": null,
   "id": "27f4557a-3448-4029-a311-9d4f2f58edc2",
   "metadata": {},
   "outputs": [],
   "source": []
  },
  {
   "cell_type": "code",
   "execution_count": null,
   "id": "55622aff-0136-423b-b334-b5f233fe0024",
   "metadata": {},
   "outputs": [],
   "source": []
  },
  {
   "cell_type": "code",
   "execution_count": null,
   "id": "8fdf45ac-2d49-41a0-af3e-1e92e63ab7aa",
   "metadata": {},
   "outputs": [],
   "source": []
  },
  {
   "cell_type": "code",
   "execution_count": null,
   "id": "b185daf5-0fb2-441f-838b-b1452a1b0e79",
   "metadata": {},
   "outputs": [],
   "source": []
  },
  {
   "cell_type": "code",
   "execution_count": null,
   "id": "1c7cac42-c651-4f2c-947a-2536efc69ae1",
   "metadata": {},
   "outputs": [],
   "source": []
  },
  {
   "cell_type": "code",
   "execution_count": null,
   "id": "d8964833-c14c-43c7-a0ab-3382cb79f698",
   "metadata": {},
   "outputs": [],
   "source": [
    "# UX_topic_prompt = \"\"\"\n",
    "# Role: You are in the role of a UX researcher evaluting user feedback to find what users like about our system. Those likes and displikes will be eventually turned into design decisions.\n",
    "# Our system is an AI system that helps user navigate a database of petroleum engineering documentation.\n",
    "\n",
    "# Instructions:\n",
    "# I will give you some text that is feedback from a user testing a new software system. \n",
    "# This feedback may be long and cover mutliple topics. In that case break down the response into the component topics and return only 1-4 main topics.\n",
    "# Also, summarize those main topics so that each one is only one or two words long, and make sure that none of the main topics are redundant.\n",
    "# Think through this process step by step.\n",
    "# Finally, Once you have determined a set of main topics, return those main topics in a list form like so: [\"main topic 1\", \"main topic 2\", \"main topic 3\"]. \n",
    "# Do not return the users original feedback or any additional explanation.\n",
    "\n",
    "# Here are two examples:\n",
    "\n",
    "# Example1: \n",
    "#     User Feedback: \"The search function was excellent, but the insight feature was poor\"\n",
    "#     Output: [\"search function\", \"insight feature\"]\n",
    "\n",
    "# Example 2:\n",
    "#     User Feedback: \"The system was very difficult to use and not intuitive at all.\"\n",
    "#     Output: [\"the system\"]\n",
    "\n",
    "# User Feedback: {userfeedback}\n",
    "# Output: \"\"\""
   ]
  }
 ],
 "metadata": {
  "kernelspec": {
   "display_name": "Python 3 (ipykernel)",
   "language": "python",
   "name": "python3"
  },
  "language_info": {
   "codemirror_mode": {
    "name": "ipython",
    "version": 3
   },
   "file_extension": ".py",
   "mimetype": "text/x-python",
   "name": "python",
   "nbconvert_exporter": "python",
   "pygments_lexer": "ipython3",
   "version": "3.10.12"
  }
 },
 "nbformat": 4,
 "nbformat_minor": 5
}
